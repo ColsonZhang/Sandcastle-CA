{
 "cells": [
  {
   "cell_type": "markdown",
   "metadata": {
    "toc": true
   },
   "source": [
    "<h1>Table of Contents<span class=\"tocSkip\"></span></h1>\n",
    "<div class=\"toc\"><ul class=\"toc-item\"></ul></div>"
   ]
  },
  {
   "cell_type": "code",
   "execution_count": 73,
   "metadata": {},
   "outputs": [],
   "source": [
    "import matplotlib as matplotlib\n",
    "import matplotlib.pyplot as plt\n",
    "import matplotlib.pyplot as plt\n",
    "from mpl_toolkits.axes_grid1 import make_axes_locatable\n",
    "import numpy as np\n",
    "import pandas as pd\n",
    "import random\n",
    "import math"
   ]
  },
  {
   "cell_type": "code",
   "execution_count": 176,
   "metadata": {},
   "outputs": [],
   "source": [
    "SIZE = 100        #基本尺寸\n",
    "#斜坡属性\n",
    "WIDTH = 50        #斜坡宽度\n",
    "HEIGHT = 50      #斜坡高度\n",
    "K = WIDTH/HEIGHT  #斜坡斜率\n",
    "\n",
    "WIDE_HEIGHT = 20   #海浪高度\n",
    "WIDE_STRENGTH = 2  #海浪强度"
   ]
  },
  {
   "cell_type": "code",
   "execution_count": 189,
   "metadata": {},
   "outputs": [],
   "source": [
    "#设置初始位置\n",
    "def initial():  \n",
    "    pos=[]\n",
    "    for i in range(SIZE):\n",
    "        array=[]\n",
    "        if i < HEIGHT:\n",
    "            for j in range(SIZE):\n",
    "                if j < i*K :\n",
    "                    array.append(0)\n",
    "                else:\n",
    "                    array.append(1)\n",
    "            pos.append(array)\n",
    "        else:\n",
    "            for j in range(SIZE):\n",
    "                array.append(0)\n",
    "            pos.append(array) \n",
    "    return pos\n",
    "\n",
    "#绘制当前沙堆形状\n",
    "def draw(pos):\n",
    "    x=[]\n",
    "    y=[]\n",
    "    for i in range(SIZE):\n",
    "        for j in range(SIZE):\n",
    "            if pos[i][j] == 1 :\n",
    "                x.append(j)\n",
    "                y.append(i)\n",
    "    fig, axScatter = plt.subplots(figsize=(6,6))\n",
    "    # the scatter plot:\n",
    "    axScatter.scatter(x, y)\n",
    "    axScatter.set_aspect(1.)\n",
    "    plt.axis([0,100,0,100])\n",
    "    plt.show()\n",
    "    return x,y"
   ]
  },
  {
   "cell_type": "code",
   "execution_count": 218,
   "metadata": {},
   "outputs": [],
   "source": [
    "#海浪冲击函数\n",
    "def wave_function(pos):\n",
    "#假设对于每一层沙子是同时作用的，即，同时抽空\n",
    "    for i in range(SIZE):\n",
    "        if i < WIDE_HEIGHT :\n",
    "            term = 0\n",
    "            for j in range(SIZE):\n",
    "                if pos[i][j] == 1 :\n",
    "                    term = j\n",
    "                    break\n",
    "            for k in range(WIDE_STRENGTH):\n",
    "                if term + k < SIZE - 1 :\n",
    "                    pos[i][term+k] = 0\n",
    "    return pos\n",
    "\n",
    " #计算高度函数\n",
    "def len_cal(pos):\n",
    "    cliff_len=[]\n",
    "    for i in range(SIZE): #这里的i对应横坐标\n",
    "        term = 0 \n",
    "        for j in range(SIZE): #这里的j对应纵坐标\n",
    "            if pos[j][i]  == 1 :\n",
    "                term = j+1\n",
    "        cliff_len.append(term)\n",
    "    return cliff_len\n",
    "\n",
    "#计算差值函数\n",
    "def cliff_difference(cliff_len):\n",
    "    #计算差值\n",
    "    cliff_dif=[]\n",
    "    for i in range(SIZE): #这里的i对应横坐标\n",
    "        if i == 0:\n",
    "            cliff_dif.append(cliff_len[i])\n",
    "        else:\n",
    "            cliff_dif.append(cliff_len[i] - cliff_len[i-1])\n",
    "    return cliff_dif\n",
    "\n",
    "#通过差值还原pos函数\n",
    "def len2pos(cliff_len):\n",
    "    pos=[]\n",
    "    for i in range(SIZE):\n",
    "        array=[]\n",
    "        for j in range(SIZE):\n",
    "            if cliff_len[j] > i:\n",
    "                array.append(1)\n",
    "            else:\n",
    "                array.append(0)\n",
    "        pos.append(array)\n",
    "    return pos\n",
    "            \n",
    "#定义沙堆下坠规则\n",
    "#如果 S(x)-S(x-1) = 2 ,有 50%的几率下坠\n",
    "#如果 S(x)-S(x-1) = i ,i>2 下坠概率 p = 50% + (i-2)*25%\n",
    "\n",
    "#下坠函数\n",
    "def fall_function(cliff_len):\n",
    "    for times in range(10): #计算10次\n",
    "        cliff_dif = cliff_difference(cliff_len)\n",
    "        for i in range(SIZE): #这里的i对应横坐标\n",
    "            p=0\n",
    "            if(cliff_dif[i] >= 2):\n",
    "                p=0.5+(cliff_dif[i]-2)*0.25\n",
    "                if p >= random.randint(0,100)/100:\n",
    "                    cliff_len[i] = cliff_len[i] -  math.ceil(cliff_dif[i]/2)#该位置减小差值的一半并向上取整\n",
    "                    cliff_len[i-1] = cliff_len[i-1] + (cliff_dif[i]-math.ceil(cliff_dif[i]/2))\n",
    "    return cliff_len"
   ]
  },
  {
   "cell_type": "code",
   "execution_count": 190,
   "metadata": {},
   "outputs": [
    {
     "data": {
      "image/png": "[encoded data removed]",
      "text/plain": [
       "<Figure size 432x432 with 1 Axes>"
      ]
     },
     "metadata": {
      "needs_background": "light"
     },
     "output_type": "display_data"
    }
   ],
   "source": [
    "pos=initial()\n",
    "x,y=draw(pos)"
   ]
  },
  {
   "cell_type": "code",
   "execution_count": 180,
   "metadata": {},
   "outputs": [
    {
     "name": "stdout",
     "output_type": "stream",
     "text": [
      "[1, 2, 3, 4, 5, 6, 7, 8, 9, 10, 11, 12, 13, 14, 15, 16, 17, 18, 19, 20, 21, 22, 23, 24, 25, 26, 27, 28, 29, 30, 31, 32, 33, 34, 35, 36, 37, 38, 39, 40, 41, 42, 43, 44, 45, 46, 47, 48, 49, 50, 50, 50, 50, 50, 50, 50, 50, 50, 50, 50, 50, 50, 50, 50, 50, 50, 50, 50, 50, 50, 50, 50, 50, 50, 50, 50, 50, 50, 50, 50, 50, 50, 50, 50, 50, 50, 50, 50, 50, 50, 50, 50, 50, 50, 50, 50, 50, 50, 50, 50]\n",
      "[1, 1, 1, 1, 1, 1, 1, 1, 1, 1, 1, 1, 1, 1, 1, 1, 1, 1, 1, 1, 1, 1, 1, 1, 1, 1, 1, 1, 1, 1, 1, 1, 1, 1, 1, 1, 1, 1, 1, 1, 1, 1, 1, 1, 1, 1, 1, 1, 1, 1, 0, 0, 0, 0, 0, 0, 0, 0, 0, 0, 0, 0, 0, 0, 0, 0, 0, 0, 0, 0, 0, 0, 0, 0, 0, 0, 0, 0, 0, 0, 0, 0, 0, 0, 0, 0, 0, 0, 0, 0, 0, 0, 0, 0, 0, 0, 0, 0, 0, 0]\n"
     ]
    }
   ],
   "source": [
    "pos=initial()\n",
    "cliff_len=len_cal(pos)\n",
    "print(cliff_len)\n",
    "cliff_dif = cliff_difference(cliff_len)\n",
    "print(cliff_dif)"
   ]
  },
  {
   "cell_type": "code",
   "execution_count": 219,
   "metadata": {},
   "outputs": [
    {
     "data": {
      "image/png": "[encoded data removed]",
      "text/plain": [
       "<Figure size 432x432 with 1 Axes>"
      ]
     },
     "metadata": {
      "needs_background": "light"
     },
     "output_type": "display_data"
    }
   ],
   "source": [
    "pos=initial()\n",
    "WAVE_TIMES = 5\n",
    "for i in range(WAVE_TIMES):\n",
    "    pos=wave_function(pos)\n",
    "    cliff_len=len_cal(pos)\n",
    "    cliff_len=fall_function(cliff_len)\n",
    "    pos=len2pos(cliff_len)\n",
    "x,y=draw(pos)"
   ]
  }
 ],
 "metadata": {
  "kernelspec": {
   "display_name": "Python 3",
   "language": "python",
   "name": "python3"
  },
  "language_info": {
   "codemirror_mode": {
    "name": "ipython",
    "version": 3
   },
   "file_extension": ".py",
   "mimetype": "text/x-python",
   "name": "python",
   "nbconvert_exporter": "python",
   "pygments_lexer": "ipython3",
   "version": "3.6.3"
  },
  "toc": {
   "base_numbering": 1,
   "nav_menu": {},
   "number_sections": true,
   "sideBar": true,
   "skip_h1_title": false,
   "title_cell": "Table of Contents",
   "title_sidebar": "Contents",
   "toc_cell": true,
   "toc_position": {},
   "toc_section_display": true,
   "toc_window_display": false
  }
 },
 "nbformat": 4,
 "nbformat_minor": 4
}
